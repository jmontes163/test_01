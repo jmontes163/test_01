{
  "nbformat": 4,
  "nbformat_minor": 0,
  "metadata": {
    "colab": {
      "provenance": [],
      "authorship_tag": "ABX9TyOATwM8v+Hkj3Blb3N2I6j5",
      "include_colab_link": true
    },
    "kernelspec": {
      "name": "python3",
      "display_name": "Python 3"
    },
    "language_info": {
      "name": "python"
    }
  },
  "cells": [
    {
      "cell_type": "markdown",
      "metadata": {
        "id": "view-in-github",
        "colab_type": "text"
      },
      "source": [
        "<a href=\"https://colab.research.google.com/github/jmontes163/test_01/blob/main/OTOC.ipynb\" target=\"_parent\"><img src=\"https://colab.research.google.com/assets/colab-badge.svg\" alt=\"Open In Colab\"/></a>"
      ]
    },
    {
      "cell_type": "code",
      "execution_count": null,
      "metadata": {
        "id": "eGvYOjXJak2E"
      },
      "outputs": [],
      "source": [
        "import numpy as np\n",
        "import torch as th"
      ]
    },
    {
      "cell_type": "code",
      "source": [
        "i=complex(0,1)\n",
        "pi=th.pi\n",
        "\n",
        "\n",
        "nps=[339,420,492,540,630,690,747,807,900,1107,243,3936,5685,7437,9186,10935,12684,14436,16185,17934]\n",
        "\n",
        "#Seleccionamos la N que queremos para nuestro operador\n",
        "\n",
        "Ni = 6\n",
        "\n",
        "for N in nps[Ni:Ni+1]:\n",
        "  n3=N//3\n",
        "  Ao=np.sqrt(1.0/(4.0*pi*float(N)))\n",
        "  Alpha=np.sqrt(2.)*(Ao**(1./4.))/(pi**(1./4.));\n",
        "  hbar=(2.*pi*N)**(-1.);\n",
        "\n",
        "print(N)\n"
      ],
      "metadata": {
        "colab": {
          "base_uri": "https://localhost:8080/"
        },
        "id": "iwwXlHDyavPr",
        "outputId": "0a9145c0-6482-4aba-f540-6365b7b1203f"
      },
      "execution_count": null,
      "outputs": [
        {
          "output_type": "stream",
          "name": "stdout",
          "text": [
            "747\n"
          ]
        }
      ]
    },
    {
      "cell_type": "code",
      "source": [
        "#Creamos el Operador evolución abierto.\n",
        "\n",
        "TB1=np.zeros([n3,n3])\n",
        "TBT=np.zeros([N,N])\n",
        "\n",
        "TB1=TB1.astype(complex)\n",
        "TBT=TBT.astype(complex)\n",
        "\n",
        "GD=np.zeros([N,N])\n",
        "PF=np.zeros([N,N])\n",
        "\n",
        "GD=GD.astype(complex)\n",
        "PF=PF.astype(complex)\n",
        "\n",
        "k, p = np.meshgrid(np.arange(n3), np.arange(n3), indexing='ij')\n",
        "TB1=(1.0/np.sqrt(float(n3)))*np.exp(-2.0*i*pi*(k+0.5)*(p+0.5)/float(n3))\n",
        "\n",
        "TBT[0:n3,0:n3]=TB1\n",
        "TBT[n3:2*n3,n3:2*n3]=TB1\n",
        "TBT[2*n3:N,2*n3:N]=TB1\n",
        "\n",
        "Z=0.0\n",
        "\n",
        "TBT[n3:2*n3,n3:2*n3]=TBT[n3:2*n3,n3:2*n3]*Z\n",
        "\n",
        "k, p = np.meshgrid(np.arange(N), np.arange(N), indexing='ij')\n",
        "GD=(1.0/np.sqrt(float(N)))*np.exp(2*i*pi*(k+0.5)*(p+0.5)/float(N))\n",
        "PF=np.dot(GD,TBT)\n"
      ],
      "metadata": {
        "id": "8u4XAqDc1nih"
      },
      "execution_count": null,
      "outputs": []
    },
    {
      "cell_type": "code",
      "source": [
        "#Creamos el Operador evolución cerrado.\n",
        "\n",
        "TB1c=np.zeros([n3,n3])\n",
        "TBTc=np.zeros([N,N])\n",
        "\n",
        "TB1c=TB1c.astype(complex)\n",
        "TBTc=TBTc.astype(complex)\n",
        "\n",
        "GDc=np.zeros([N,N])\n",
        "PFc=np.zeros([N,N])\n",
        "\n",
        "GDc=GDc.astype(complex)\n",
        "PFc=PFc.astype(complex)\n",
        "\n",
        "k, p = np.meshgrid(np.arange(n3), np.arange(n3), indexing='ij')\n",
        "TB1c=(1.0/np.sqrt(float(n3)))*np.exp(-2.0*i*pi*(k+0.5)*(p+0.5)/float(n3))\n",
        "\n",
        "TBTc[0:n3,0:n3]=TB1c\n",
        "TBTc[n3:2*n3,n3:2*n3]=TB1c\n",
        "TBTc[2*n3:N,2*n3:N]=TB1c\n",
        "\n",
        "Zc=1.0\n",
        "\n",
        "TBTc[n3:2*n3,n3:2*n3]=TBTc[n3:2*n3,n3:2*n3]*Zc\n",
        "\n",
        "k, p = np.meshgrid(np.arange(N), np.arange(N), indexing='ij')\n",
        "GD=(1.0/np.sqrt(float(N)))*np.exp(2*i*pi*(k+0.5)*(p+0.5)/float(N))\n",
        "PFc=np.dot(GD,TBT)\n"
      ],
      "metadata": {
        "id": "UFQWDDMLeapp"
      },
      "execution_count": null,
      "outputs": []
    },
    {
      "cell_type": "code",
      "source": [
        "lamd, Pfi = np.linalg.eig(PF) #Se calculas los autovalores"
      ],
      "metadata": {
        "id": "ez1SZCK4fS-i"
      },
      "execution_count": null,
      "outputs": []
    },
    {
      "cell_type": "code",
      "source": [
        "def apert(n, Z):\n",
        "    # Se crean las tres matrices identidad para un Z\n",
        "    n3 = n // 3\n",
        "    TB1 = np.eye(n3, dtype=complex)\n",
        "    TB2 = np.eye(n3, dtype=complex) * Z\n",
        "    TB3 = np.eye(n3, dtype=complex)\n",
        "\n",
        "    # Se crea una matriz cuadrada nxn llena de ceros\n",
        "    TBT = np.zeros((n, n), dtype=complex)\n",
        "\n",
        "    # Se asignan las matrices identidad a los bloques de la matriz cuadrada\n",
        "    TBT[0:n3, 0:n3] = TB1\n",
        "    TBT[n3:2*n3, n3:2*n3] = TB2\n",
        "    TBT[2*n3:, 2*n3:] = TB3\n",
        "\n",
        "    return TBT\n"
      ],
      "metadata": {
        "id": "DeLkYFuf2MU0"
      },
      "execution_count": null,
      "outputs": []
    },
    {
      "cell_type": "code",
      "source": [],
      "metadata": {
        "id": "5Yg9w3AH21Y0"
      },
      "execution_count": null,
      "outputs": []
    },
    {
      "cell_type": "code",
      "source": [
        "bak=PF\n",
        "bakc=PFc\n",
        "\n",
        "tau = 20\n",
        "X2d = apert(N, Z)\n",
        "P2d = apert(N, Z)\n",
        "\n",
        "#Propagar una vex hacia delante (abierto)\n",
        "#P2d = np.matmul(P2d, bak)\n",
        "#P2d = np.matmul(np.transpose(np.conj(bak)), P2d)\n",
        "\n",
        "#Propagar una vex hacia atras (cerrado)\n",
        "P2d = np.matmul(P2d, np.transpose(np.conj(bakc)))\n",
        "P2d = np.matmul(bakc, P2d)\n",
        "\n",
        "Hus = np.zeros((1, tau), dtype=complex)\n",
        "for c in range(tau):\n",
        "    eigenvectors = np.zeros((N, N), dtype=complex)\n",
        "    eigenvectors = np.matmul(X2d, P2d)\n",
        "    eigenvectorsb = np.matmul(P2d, X2d)\n",
        "    eigenvectors = eigenvectors - eigenvectorsb\n",
        "    eigenvectors = np.matmul(eigenvectors, np.transpose(np.conj(eigenvectors)))\n",
        "\n",
        "    O2 = np.sum(np.diagonal(eigenvectors))\n",
        "    O2b = np.sqrt(np.conj(O2)*O2)\n",
        "    Hus[0, c] = O2b.real\n",
        "\n",
        "    X2d = np.matmul(X2d, bak)\n",
        "    X2d = np.matmul(np.transpose(np.conj(bak)), X2d)\n",
        "\n"
      ],
      "metadata": {
        "id": "7i2y4bAL4h1x"
      },
      "execution_count": null,
      "outputs": []
    },
    {
      "cell_type": "code",
      "source": [
        "import matplotlib.pyplot as plt\n",
        "\n",
        "# Antes de llamar a este código, asegúrate de haber definido correctamente tau.\n",
        "print(Hus[0,:])\n",
        "tau_values = range(tau)\n",
        "\n",
        "plt.plot(tau_values, Hus[0,:])\n",
        "plt.xlabel(r'$\\tau$ (Time)')\n",
        "plt.ylabel('$C(t)$')\n",
        "plt.title('OTOC Tribaker')\n",
        "plt.grid(True)\n",
        "plt.show()\n"
      ],
      "metadata": {
        "colab": {
          "base_uri": "https://localhost:8080/",
          "height": 563
        },
        "id": "l3KlXKT85VES",
        "outputId": "ad227ab4-481c-4197-ec4a-b7e6b8fdb5fc"
      },
      "execution_count": null,
      "outputs": [
        {
          "output_type": "stream",
          "name": "stdout",
          "text": [
            "[ 1.51049857+0.j  3.77173663+0.j  7.08748324+0.j 11.6102367 +0.j\n",
            " 16.62619256+0.j 15.88161355+0.j  7.2065955 +0.j  3.78868275+0.j\n",
            "  1.94194413+0.j  1.0882788 +0.j  0.6347626 +0.j  0.39689957+0.j\n",
            "  0.25605528+0.j  0.1757091 +0.j  0.12325879+0.j  0.08945231+0.j\n",
            "  0.0661891 +0.j  0.05042227+0.j  0.03917222+0.j  0.03102421+0.j]\n"
          ]
        },
        {
          "output_type": "display_data",
          "data": {
            "text/plain": [
              "<Figure size 640x480 with 1 Axes>"
            ],
            "image/png": "[encoded data removed]"
          },
          "metadata": {}
        }
      ]
    },
    {
      "cell_type": "code",
      "source": [],
      "metadata": {
        "id": "KbVznhkx77sB"
      },
      "execution_count": null,
      "outputs": []
    }
  ]
}